{
  "cells": [
    {
      "cell_type": "markdown",
      "metadata": {
        "id": "_K0d0cZ8_Rb3"
      },
      "source": [
        "# Import"
      ]
    },
    {
      "cell_type": "code",
      "execution_count": null,
      "metadata": {
        "id": "ArpOhFNF2Oi9"
      },
      "outputs": [],
      "source": [
        "import pandas as pd\n",
        "from sklearn.model_selection import train_test_split\n",
        "from sklearn.decomposition import PCA\n",
        "import matplotlib.pyplot as plt\n",
        "from datetime import datetime\n",
        "from numpy import linalg as LA\n",
        "from sklearn.metrics import confusion_matrix, accuracy_score, balanced_accuracy_score\n",
        "import math\n",
        "import numpy as np"
      ]
    },
    {
      "cell_type": "code",
      "execution_count": null,
      "metadata": {
        "id": "Zw9H9ehGbOVQ"
      },
      "outputs": [],
      "source": [
        "def detect_botnet(label):\n",
        "    if 'Botnet' in label:\n",
        "        return 0\n",
        "    else:\n",
        "        return 1\n",
        "\n",
        "#create a column with 0 if botnet and 1 else\n",
        "    \n",
        "def transform_date(strdate):\n",
        "    first_split = strdate.split('/')\n",
        "    second_split = first_split[-1].split(' ')\n",
        "    third_split = second_split[-1].split(':')\n",
        "    four_split = third_split[-1].split('.')\n",
        "    year = int(first_split[0])\n",
        "    month = int(first_split[1])\n",
        "    day = int(second_split[0])\n",
        "    hour = int(third_split[0])\n",
        "    minute = int(third_split[1])\n",
        "    second = int(four_split[0])\n",
        "    date = datetime(year = year, month = month, day = day, hour = hour, minute = minute, second = second)\n",
        "    return date.timestamp()\n",
        "\n",
        "#transform the date in a numerical value\n",
        "\n",
        "def detect_anormal(vec):\n",
        "    ect  = np.std(u1)\n",
        "    mean = np.mean(u1)\n",
        "    return max(abs(u1)) > mean + 3 * ect\n",
        "\n",
        "#detect anormal traffic according to the mean and standard deviation"
      ]
    },
    {
      "cell_type": "markdown",
      "metadata": {
        "id": "RX3blpLD_RcD"
      },
      "source": [
        "# Download of data"
      ]
    },
    {
      "cell_type": "markdown",
      "metadata": {
        "id": "75w2mL07_RcF"
      },
      "source": [
        "If use on colab, you can download data with this command (data server is down for the moment)"
      ]
    },
    {
      "cell_type": "code",
      "execution_count": null,
      "metadata": {
        "colab": {
          "base_uri": "https://localhost:8080/"
        },
        "id": "me4xUopZ2Itj",
        "outputId": "e08acc86-a89e-4d8f-e3fa-fb2329b219cf"
      },
      "outputs": [
        {
          "name": "stdout",
          "output_type": "stream",
          "text": [
            "--2022-03-18 15:30:34--  https://mcfp.felk.cvut.cz/publicDatasets/CTU-Malware-Capture-Botnet-42/detailed-bidirectional-flow-labels/capture20110810.binetflow\n",
            "Resolving mcfp.felk.cvut.cz (mcfp.felk.cvut.cz)... 147.32.82.194\n",
            "Connecting to mcfp.felk.cvut.cz (mcfp.felk.cvut.cz)|147.32.82.194|:443... failed: No route to host.\n"
          ]
        }
      ],
      "source": [
        "!wget https://mcfp.felk.cvut.cz/publicDatasets/CTU-Malware-Capture-Botnet-42/detailed-bidirectional-flow-labels/capture20110810.binetflow\n",
        "df = pd.read_csv('/content/capture20110810.binetflow')"
      ]
    },
    {
      "cell_type": "markdown",
      "metadata": {
        "id": "4s_CFqE4_RcI"
      },
      "source": [
        "If working on local, put Binetflow file on the same directory than the notebook. I recommend doing it and working on local since it is quite slow to import one dataset on Colab."
      ]
    },
    {
      "cell_type": "code",
      "execution_count": null,
      "metadata": {
        "id": "_JM6Zte0_RcP"
      },
      "outputs": [],
      "source": [
        "df = pd.read_csv('capture20110817.binetflow')\n",
        "#df = pd.read_csv('capture20110810.binetflow')\n",
        "#df = pd.read_csv('capture20110811.binetflow')"
      ]
    },
    {
      "cell_type": "markdown",
      "metadata": {
        "id": "vfMIJhjg_RcQ"
      },
      "source": [
        "# Analyze of the data"
      ]
    },
    {
      "cell_type": "markdown",
      "metadata": {
        "id": "grkv0aug_RcR"
      },
      "source": [
        "small extract of the dataset"
      ]
    },
    {
      "cell_type": "code",
      "execution_count": null,
      "metadata": {
        "colab": {
          "base_uri": "https://localhost:8080/",
          "height": 206
        },
        "id": "j8Lr-rfO3fVp",
        "outputId": "7bc06193-aa59-4e18-fc0f-59b44a1361ce",
        "scrolled": true
      },
      "outputs": [
        {
          "data": {
            "text/html": [
              "<div>\n",
              "<style scoped>\n",
              "    .dataframe tbody tr th:only-of-type {\n",
              "        vertical-align: middle;\n",
              "    }\n",
              "\n",
              "    .dataframe tbody tr th {\n",
              "        vertical-align: top;\n",
              "    }\n",
              "\n",
              "    .dataframe thead th {\n",
              "        text-align: right;\n",
              "    }\n",
              "</style>\n",
              "<table border=\"1\" class=\"dataframe\">\n",
              "  <thead>\n",
              "    <tr style=\"text-align: right;\">\n",
              "      <th></th>\n",
              "      <th>StartTime</th>\n",
              "      <th>Dur</th>\n",
              "      <th>Proto</th>\n",
              "      <th>SrcAddr</th>\n",
              "      <th>Sport</th>\n",
              "      <th>Dir</th>\n",
              "      <th>DstAddr</th>\n",
              "      <th>Dport</th>\n",
              "      <th>State</th>\n",
              "      <th>sTos</th>\n",
              "      <th>dTos</th>\n",
              "      <th>TotPkts</th>\n",
              "      <th>TotBytes</th>\n",
              "      <th>SrcBytes</th>\n",
              "      <th>Label</th>\n",
              "    </tr>\n",
              "  </thead>\n",
              "  <tbody>\n",
              "    <tr>\n",
              "      <th>0</th>\n",
              "      <td>2011/08/10 09:46:59.607825</td>\n",
              "      <td>1.026539</td>\n",
              "      <td>tcp</td>\n",
              "      <td>94.44.127.113</td>\n",
              "      <td>1577</td>\n",
              "      <td>-&gt;</td>\n",
              "      <td>147.32.84.59</td>\n",
              "      <td>6881</td>\n",
              "      <td>S_RA</td>\n",
              "      <td>0.0</td>\n",
              "      <td>0.0</td>\n",
              "      <td>4</td>\n",
              "      <td>276</td>\n",
              "      <td>156</td>\n",
              "      <td>flow=Background-Established-cmpgw-CVUT</td>\n",
              "    </tr>\n",
              "    <tr>\n",
              "      <th>1</th>\n",
              "      <td>2011/08/10 09:47:00.634364</td>\n",
              "      <td>1.009595</td>\n",
              "      <td>tcp</td>\n",
              "      <td>94.44.127.113</td>\n",
              "      <td>1577</td>\n",
              "      <td>-&gt;</td>\n",
              "      <td>147.32.84.59</td>\n",
              "      <td>6881</td>\n",
              "      <td>S_RA</td>\n",
              "      <td>0.0</td>\n",
              "      <td>0.0</td>\n",
              "      <td>4</td>\n",
              "      <td>276</td>\n",
              "      <td>156</td>\n",
              "      <td>flow=Background-Established-cmpgw-CVUT</td>\n",
              "    </tr>\n",
              "    <tr>\n",
              "      <th>2</th>\n",
              "      <td>2011/08/10 09:47:48.185538</td>\n",
              "      <td>3.056586</td>\n",
              "      <td>tcp</td>\n",
              "      <td>147.32.86.89</td>\n",
              "      <td>4768</td>\n",
              "      <td>-&gt;</td>\n",
              "      <td>77.75.73.33</td>\n",
              "      <td>80</td>\n",
              "      <td>SR_A</td>\n",
              "      <td>0.0</td>\n",
              "      <td>0.0</td>\n",
              "      <td>3</td>\n",
              "      <td>182</td>\n",
              "      <td>122</td>\n",
              "      <td>flow=Background-TCP-Attempt</td>\n",
              "    </tr>\n",
              "    <tr>\n",
              "      <th>3</th>\n",
              "      <td>2011/08/10 09:47:48.230897</td>\n",
              "      <td>3.111769</td>\n",
              "      <td>tcp</td>\n",
              "      <td>147.32.86.89</td>\n",
              "      <td>4788</td>\n",
              "      <td>-&gt;</td>\n",
              "      <td>77.75.73.33</td>\n",
              "      <td>80</td>\n",
              "      <td>SR_A</td>\n",
              "      <td>0.0</td>\n",
              "      <td>0.0</td>\n",
              "      <td>3</td>\n",
              "      <td>182</td>\n",
              "      <td>122</td>\n",
              "      <td>flow=Background-TCP-Attempt</td>\n",
              "    </tr>\n",
              "    <tr>\n",
              "      <th>4</th>\n",
              "      <td>2011/08/10 09:47:48.963351</td>\n",
              "      <td>3.083411</td>\n",
              "      <td>tcp</td>\n",
              "      <td>147.32.86.89</td>\n",
              "      <td>4850</td>\n",
              "      <td>-&gt;</td>\n",
              "      <td>77.75.73.33</td>\n",
              "      <td>80</td>\n",
              "      <td>SR_A</td>\n",
              "      <td>0.0</td>\n",
              "      <td>0.0</td>\n",
              "      <td>3</td>\n",
              "      <td>182</td>\n",
              "      <td>122</td>\n",
              "      <td>flow=Background-TCP-Attempt</td>\n",
              "    </tr>\n",
              "  </tbody>\n",
              "</table>\n",
              "</div>"
            ],
            "text/plain": [
              "                    StartTime       Dur Proto        SrcAddr Sport    Dir  \\\n",
              "0  2011/08/10 09:46:59.607825  1.026539   tcp  94.44.127.113  1577     ->   \n",
              "1  2011/08/10 09:47:00.634364  1.009595   tcp  94.44.127.113  1577     ->   \n",
              "2  2011/08/10 09:47:48.185538  3.056586   tcp   147.32.86.89  4768     ->   \n",
              "3  2011/08/10 09:47:48.230897  3.111769   tcp   147.32.86.89  4788     ->   \n",
              "4  2011/08/10 09:47:48.963351  3.083411   tcp   147.32.86.89  4850     ->   \n",
              "\n",
              "        DstAddr Dport State  sTos  dTos  TotPkts  TotBytes  SrcBytes  \\\n",
              "0  147.32.84.59  6881  S_RA   0.0   0.0        4       276       156   \n",
              "1  147.32.84.59  6881  S_RA   0.0   0.0        4       276       156   \n",
              "2   77.75.73.33    80  SR_A   0.0   0.0        3       182       122   \n",
              "3   77.75.73.33    80  SR_A   0.0   0.0        3       182       122   \n",
              "4   77.75.73.33    80  SR_A   0.0   0.0        3       182       122   \n",
              "\n",
              "                                    Label  \n",
              "0  flow=Background-Established-cmpgw-CVUT  \n",
              "1  flow=Background-Established-cmpgw-CVUT  \n",
              "2             flow=Background-TCP-Attempt  \n",
              "3             flow=Background-TCP-Attempt  \n",
              "4             flow=Background-TCP-Attempt  "
            ]
          },
          "execution_count": 26,
          "metadata": {},
          "output_type": "execute_result"
        }
      ],
      "source": [
        "df.head()"
      ]
    },
    {
      "cell_type": "markdown",
      "metadata": {
        "id": "kdjXZPY2_RcT"
      },
      "source": [
        "interesting info of some numeric value"
      ]
    },
    {
      "cell_type": "code",
      "execution_count": null,
      "metadata": {
        "colab": {
          "base_uri": "https://localhost:8080/",
          "height": 300
        },
        "id": "jdGcXZ0KWiwG",
        "outputId": "e804c41a-7ac7-46a8-9832-1a627030fada",
        "scrolled": true
      },
      "outputs": [
        {
          "data": {
            "text/html": [
              "<div>\n",
              "<style scoped>\n",
              "    .dataframe tbody tr th:only-of-type {\n",
              "        vertical-align: middle;\n",
              "    }\n",
              "\n",
              "    .dataframe tbody tr th {\n",
              "        vertical-align: top;\n",
              "    }\n",
              "\n",
              "    .dataframe thead th {\n",
              "        text-align: right;\n",
              "    }\n",
              "</style>\n",
              "<table border=\"1\" class=\"dataframe\">\n",
              "  <thead>\n",
              "    <tr style=\"text-align: right;\">\n",
              "      <th></th>\n",
              "      <th>Dur</th>\n",
              "      <th>sTos</th>\n",
              "      <th>dTos</th>\n",
              "      <th>TotPkts</th>\n",
              "      <th>TotBytes</th>\n",
              "      <th>SrcBytes</th>\n",
              "    </tr>\n",
              "  </thead>\n",
              "  <tbody>\n",
              "    <tr>\n",
              "      <th>count</th>\n",
              "      <td>2.824636e+06</td>\n",
              "      <td>2.814046e+06</td>\n",
              "      <td>2.629446e+06</td>\n",
              "      <td>2.824636e+06</td>\n",
              "      <td>2.824636e+06</td>\n",
              "      <td>2.824636e+06</td>\n",
              "    </tr>\n",
              "    <tr>\n",
              "      <th>mean</th>\n",
              "      <td>4.322060e+02</td>\n",
              "      <td>2.786664e-02</td>\n",
              "      <td>4.430591e-04</td>\n",
              "      <td>2.547990e+01</td>\n",
              "      <td>1.929134e+04</td>\n",
              "      <td>4.155290e+03</td>\n",
              "    </tr>\n",
              "    <tr>\n",
              "      <th>std</th>\n",
              "      <td>9.958423e+02</td>\n",
              "      <td>2.220372e+00</td>\n",
              "      <td>3.332693e-02</td>\n",
              "      <td>3.124788e+03</td>\n",
              "      <td>3.212186e+06</td>\n",
              "      <td>1.858530e+06</td>\n",
              "    </tr>\n",
              "    <tr>\n",
              "      <th>min</th>\n",
              "      <td>0.000000e+00</td>\n",
              "      <td>0.000000e+00</td>\n",
              "      <td>0.000000e+00</td>\n",
              "      <td>1.000000e+00</td>\n",
              "      <td>6.000000e+01</td>\n",
              "      <td>0.000000e+00</td>\n",
              "    </tr>\n",
              "    <tr>\n",
              "      <th>25%</th>\n",
              "      <td>3.130000e-04</td>\n",
              "      <td>0.000000e+00</td>\n",
              "      <td>0.000000e+00</td>\n",
              "      <td>2.000000e+00</td>\n",
              "      <td>2.140000e+02</td>\n",
              "      <td>7.800000e+01</td>\n",
              "    </tr>\n",
              "    <tr>\n",
              "      <th>50%</th>\n",
              "      <td>1.194000e-03</td>\n",
              "      <td>0.000000e+00</td>\n",
              "      <td>0.000000e+00</td>\n",
              "      <td>2.000000e+00</td>\n",
              "      <td>2.610000e+02</td>\n",
              "      <td>8.300000e+01</td>\n",
              "    </tr>\n",
              "    <tr>\n",
              "      <th>75%</th>\n",
              "      <td>9.012607e+00</td>\n",
              "      <td>0.000000e+00</td>\n",
              "      <td>0.000000e+00</td>\n",
              "      <td>4.000000e+00</td>\n",
              "      <td>5.880000e+02</td>\n",
              "      <td>2.610000e+02</td>\n",
              "    </tr>\n",
              "    <tr>\n",
              "      <th>max</th>\n",
              "      <td>3.600031e+03</td>\n",
              "      <td>1.920000e+02</td>\n",
              "      <td>3.000000e+00</td>\n",
              "      <td>2.686731e+06</td>\n",
              "      <td>2.689640e+09</td>\n",
              "      <td>2.635366e+09</td>\n",
              "    </tr>\n",
              "  </tbody>\n",
              "</table>\n",
              "</div>"
            ],
            "text/plain": [
              "                Dur          sTos          dTos       TotPkts      TotBytes  \\\n",
              "count  2.824636e+06  2.814046e+06  2.629446e+06  2.824636e+06  2.824636e+06   \n",
              "mean   4.322060e+02  2.786664e-02  4.430591e-04  2.547990e+01  1.929134e+04   \n",
              "std    9.958423e+02  2.220372e+00  3.332693e-02  3.124788e+03  3.212186e+06   \n",
              "min    0.000000e+00  0.000000e+00  0.000000e+00  1.000000e+00  6.000000e+01   \n",
              "25%    3.130000e-04  0.000000e+00  0.000000e+00  2.000000e+00  2.140000e+02   \n",
              "50%    1.194000e-03  0.000000e+00  0.000000e+00  2.000000e+00  2.610000e+02   \n",
              "75%    9.012607e+00  0.000000e+00  0.000000e+00  4.000000e+00  5.880000e+02   \n",
              "max    3.600031e+03  1.920000e+02  3.000000e+00  2.686731e+06  2.689640e+09   \n",
              "\n",
              "           SrcBytes  \n",
              "count  2.824636e+06  \n",
              "mean   4.155290e+03  \n",
              "std    1.858530e+06  \n",
              "min    0.000000e+00  \n",
              "25%    7.800000e+01  \n",
              "50%    8.300000e+01  \n",
              "75%    2.610000e+02  \n",
              "max    2.635366e+09  "
            ]
          },
          "execution_count": 27,
          "metadata": {},
          "output_type": "execute_result"
        }
      ],
      "source": [
        "df.describe()"
      ]
    },
    {
      "cell_type": "markdown",
      "metadata": {
        "id": "nkbFNN6P_RcV"
      },
      "source": [
        "We see that the label are separated in 3 class (Background, Normal and Botnet)"
      ]
    },
    {
      "cell_type": "code",
      "execution_count": null,
      "metadata": {
        "colab": {
          "base_uri": "https://localhost:8080/"
        },
        "id": "fCMo914U5QvS",
        "outputId": "72426305-502c-4cf9-90aa-5ce85fec4ea2"
      },
      "outputs": [
        {
          "data": {
            "text/plain": [
              "array(['flow=Background-Established-cmpgw-CVUT',\n",
              "       'flow=Background-TCP-Attempt', 'flow=Background-TCP-Established',\n",
              "       'flow=Background-Attempt-cmpgw-CVUT',\n",
              "       'flow=To-Background-CVUT-Proxy', 'flow=Background-UDP-Established',\n",
              "       'flow=Background', 'flow=From-Background-CVUT-Proxy',\n",
              "       'flow=To-Background-UDP-CVUT-DNS-Server',\n",
              "       'flow=Background-UDP-Attempt',\n",
              "       'flow=From-Normal-V42-UDP-CVUT-DNS-Server',\n",
              "       'flow=Background-UDP-NTP-Established-1',\n",
              "       'flow=To-Background-CVUT-WebServer',\n",
              "       'flow=Background-google-analytics3',\n",
              "       'flow=Background-google-analytics2',\n",
              "       'flow=Background-google-analytics6', 'flow=From-Normal-V42-Jist',\n",
              "       'flow=Background-google-webmail',\n",
              "       'flow=Background-google-analytics12',\n",
              "       'flow=Background-google-analytics1',\n",
              "       'flow=Background-google-analytics13',\n",
              "       'flow=Background-google-analytics14', 'flow=To-Background-Jist',\n",
              "       'flow=Background-ajax.google', 'flow=From-Normal-V42-Grill',\n",
              "       'flow=Background-google-analytics9',\n",
              "       'flow=Background-google-analytics11', 'flow=Background-google-pop',\n",
              "       'flow=From-Normal-V42-Stribrek',\n",
              "       'flow=To-Normal-V42-UDP-NTP-server',\n",
              "       'flow=Background-google-analytics16',\n",
              "       'flow=Background-google-analytics4', 'flow=To-Background-Stribrek',\n",
              "       'flow=Background-google-analytics10',\n",
              "       'flow=Background-google-analytics5',\n",
              "       'flow=Background-google-analytics15', 'flow=To-Background-Grill',\n",
              "       'flow=From-Normal-V42-CVUT-WebServer',\n",
              "       'flow=To-Background-MatLab-Server',\n",
              "       'flow=Background-google-analytics8',\n",
              "       'flow=Background-google-analytics7',\n",
              "       'flow=Background-www.fel.cvut.cz',\n",
              "       'flow=Normal-V42-HTTP-windowsupdate',\n",
              "       'flow=From-Normal-V42-MatLab-Server',\n",
              "       'flow=From-Botnet-V42-UDP-DNS',\n",
              "       'flow=From-Botnet-V42-TCP-HTTP-Google-Net-Established-6',\n",
              "       'flow=From-Botnet-V42-TCP-Established',\n",
              "       'flow=From-Botnet-V42-TCP-Established-HTTP-Binary-Download-1',\n",
              "       'flow=From-Botnet-V42-TCP-Established-HTTP-Binary-Download-Custom-Port-7',\n",
              "       'flow=From-Botnet-V42-TCP-Established-HTTP-Binary-Download-3',\n",
              "       'flow=From-Botnet-V42-TCP-CC6-Plain-HTTP-Encrypted-Data',\n",
              "       'flow=From-Botnet-V42-TCP-Established-HTTP-Binary-Download-Custom-Port-4',\n",
              "       'flow=From-Botnet-V42-TCP-Established-HTTP-Ad-63',\n",
              "       'flow=From-Botnet-V42-TCP-Established-HTTP-Binary-Download-9',\n",
              "       'flow=From-Botnet-V42-TCP-WEB-Established',\n",
              "       'flow=From-Botnet-V42-TCP-Attempt',\n",
              "       'flow=From-Botnet-V42-TCP-CC54-Custom-Encryption',\n",
              "       'flow=From-Botnet-V42-TCP-Established-HTTP-Ad-64',\n",
              "       'flow=From-Botnet-V42-TCP-CC53-HTTP-Not-Encrypted',\n",
              "       'flow=From-Botnet-V42-TCP-Attempt-SPAM',\n",
              "       'flow=From-Botnet-V42-TCP-CC1-HTTP-Not-Encrypted',\n",
              "       'flow=From-Botnet-V42-TCP-Not-Encrypted-SMTP-Private-Proxy-1',\n",
              "       'flow=From-Botnet-V42-TCP-Established-HTTP-Ad-40',\n",
              "       'flow=From-Botnet-V42-UDP-Established',\n",
              "       'flow=From-Botnet-V42-TCP-CC16-HTTP-Not-Encrypted',\n",
              "       'flow=From-Botnet-V42-TCP-Established-HTTP-Ad-15',\n",
              "       'flow=From-Botnet-V42-TCP-Established-HTTP-Ad-44',\n",
              "       'flow=From-Botnet-V42-TCP-Established-HTTP-Ad-16',\n",
              "       'flow=From-Botnet-V42-TCP-Established-HTTP-Adobe-4',\n",
              "       'flow=From-Botnet-V42-TCP-Established-HTTP-Ad-18',\n",
              "       'flow=From-Botnet-V42-TCP-Established-HTTP-Ad-20',\n",
              "       'flow=From-Botnet-V42-TCP-Established-HTTP-Ad-37',\n",
              "       'flow=From-Botnet-V42-TCP-Established-HTTP-Ad-59',\n",
              "       'flow=From-Botnet-V42-TCP-Established-HTTP-Ad-25',\n",
              "       'flow=From-Botnet-V42-TCP-Established-SPAM',\n",
              "       'flow=From-Botnet-V42-TCP-Established-HTTP-Ad-1',\n",
              "       'flow=From-Botnet-V42-TCP-Established-HTTP-Ad-yieldmanager-9',\n",
              "       'flow=From-Botnet-V42-TCP-Established-HTTP-Binary-Download-Custom-Port-5',\n",
              "       'flow=From-Botnet-V42-TCP-HTTP-Not-Encrypted-Down-2',\n",
              "       'flow=From-Botnet-V42-TCP-CC55-Custom-Encryption',\n",
              "       'flow=From-Botnet-V42-TCP-WEB-Established-SSL',\n",
              "       'flow=From-Botnet-V42-TCP-Established-HTTP-Ad-12',\n",
              "       'flow=From-Botnet-V42-TCP-Established-Custom-Encryption-3',\n",
              "       'flow=From-Botnet-V42-TCP-Established-Custom-Encryption-2',\n",
              "       'flow=From-Botnet-V42-TCP-Established-HTTP-Ad-21',\n",
              "       'flow=From-Botnet-V42-TCP-Established-HTTP-Ad-55',\n",
              "       'flow=From-Botnet-V42-TCP-Established-HTTP-Ad-5',\n",
              "       'flow=From-Botnet-V42-TCP-Established-HTTP-Ad-53',\n",
              "       'flow=From-Botnet-V42-TCP-Established-SSL-To-Microsoft-4',\n",
              "       'flow=From-Botnet-V42-TCP-Established-HTTP-Ad-47',\n",
              "       'flow=From-Botnet-V42-TCP-Established-HTTP-Ad-30',\n",
              "       'flow=From-Botnet-V42-TCP-Established-HTTP-Ad-10',\n",
              "       'flow=From-Botnet-V42-TCP-Established-HTTP-Ad-6',\n",
              "       'flow=From-Botnet-V42-TCP-Established-HTTP-Ad-51',\n",
              "       'flow=From-Botnet-V42-TCP-Established-HTTP-Ad-32',\n",
              "       'flow=From-Botnet-V42-TCP-Established-HTTP-Ad-3',\n",
              "       'flow=From-Botnet-V42-TCP-Established-HTTP-Ad-57',\n",
              "       'flow=From-Botnet-V42-TCP-Established-HTTP-Ad-60',\n",
              "       'flow=From-Botnet-V42-TCP-Established-HTTP-Ad-41',\n",
              "       'flow=From-Botnet-V42-TCP-Established-HTTP-Ad-61',\n",
              "       'flow=From-Botnet-V42-ICMP',\n",
              "       'flow=From-Botnet-V42-TCP-Established-HTTP-Ad-48',\n",
              "       'flow=From-Botnet-V42-TCP-Established-HTTP-Ad-28',\n",
              "       'flow=From-Botnet-V42-TCP-Established-HTTP-Ad-42',\n",
              "       'flow=From-Botnet-V42-TCP-Established-HTTP-Ad-50',\n",
              "       'flow=From-Botnet-V42-TCP-Established-HTTP-Ad-7',\n",
              "       'flow=From-Botnet-V42-TCP-Established-HTTP-Ad-33',\n",
              "       'flow=From-Botnet-V42-TCP-Established-HTTP-Ad-45',\n",
              "       'flow=From-Botnet-V42-UDP-Attempt-DNS',\n",
              "       'flow=From-Botnet-V42-TCP-Established-HTTP-Ad-52',\n",
              "       'flow=From-Botnet-V42-TCP-Established-HTTP-Ad-49',\n",
              "       'flow=From-Botnet-V42-TCP-Established-HTTP-Ad-34',\n",
              "       'flow=Background-CS-Host-CVUT'], dtype=object)"
            ]
          },
          "execution_count": 28,
          "metadata": {},
          "output_type": "execute_result"
        }
      ],
      "source": [
        "df['Label'].unique()"
      ]
    },
    {
      "cell_type": "markdown",
      "metadata": {
        "id": "sSDBMZVI_RcX"
      },
      "source": [
        "We create two column (Botnet and Date), for more details go on first part to see the details of the function detect_botnet and transform_date"
      ]
    },
    {
      "cell_type": "code",
      "execution_count": null,
      "metadata": {
        "id": "MyDJ8MXboKgF"
      },
      "outputs": [],
      "source": [
        "df[\"Botnet\"]= df[\"Label\"].apply(detect_botnet)\n",
        "df[\"Date\"] = df[\"StartTime\"].apply(transform_date)"
      ]
    },
    {
      "cell_type": "markdown",
      "metadata": {
        "id": "TQ102n3l_RcY"
      },
      "source": [
        "We separe the dataframe in two dataframe (one normal and other anormal"
      ]
    },
    {
      "cell_type": "code",
      "execution_count": null,
      "metadata": {
        "id": "Rwr4Ea07_RcY"
      },
      "outputs": [],
      "source": [
        "df_botnet = df[df['Botnet'] == 0]\n",
        "df_normal = df[df['Botnet'] == 1]"
      ]
    },
    {
      "cell_type": "markdown",
      "metadata": {
        "id": "ygt697l__RcZ"
      },
      "source": [
        "By focusing on source ip adress, we could easily see a pattern (147.32.84.0/24)"
      ]
    },
    {
      "cell_type": "code",
      "execution_count": null,
      "metadata": {
        "scrolled": false,
        "id": "Xhe9Ino6_RcZ",
        "outputId": "b57d88d1-e7bb-4eb5-d7df-702bba224627"
      },
      "outputs": [
        {
          "data": {
            "text/plain": [
              "array(['147.32.84.165'], dtype=object)"
            ]
          },
          "execution_count": 33,
          "metadata": {},
          "output_type": "execute_result"
        }
      ],
      "source": [
        "df_botnet[\"SrcAddr\"].unique() #le 1"
      ]
    },
    {
      "cell_type": "markdown",
      "metadata": {
        "id": "VK9Ea1SF_Rcb"
      },
      "source": [
        "# Implementation of Lakhina Volume"
      ]
    },
    {
      "cell_type": "markdown",
      "metadata": {
        "id": "up7hheu2_Rcb"
      },
      "source": [
        "Our implementation is quite different from the original method because of the difference of the dataset: \n",
        "- We use a windows time of 600s (10 min)\n",
        "- We can't separate the u_i in normal and anormal space because according to our results, either all spaces are normal or all spaces are abnormal.\n",
        "- For simplicity reason, we use a cross validation method to determine the best threshold\n",
        "- Some ip are not considered, because they don't have enough traffic and it will lead to some error"
      ]
    },
    {
      "cell_type": "code",
      "execution_count": null,
      "metadata": {
        "id": "spAoJLML_Rcc"
      },
      "outputs": [],
      "source": [
        "threshold = 2500000 #value of the threshold\n",
        "y_pred = [] #label of prediction\n",
        "y_true = [] #label of ground truth\n",
        "false_ip = 1000 #number of ip which are not botnet (we don't use all ip because it is too much time consuming)\n",
        "window_time = 600\n",
        "\n",
        "ips = np.concatenate((df_botnet[\"SrcAddr\"].unique(), df_normal[\"SrcAddr\"].unique()[:false_ip]), axis=0)\n",
        "\n",
        "for c,ip in enumerate(ips):\n",
        "    df_extract = df[df[\"SrcAddr\"] == ip] #create a dataframe with only one ip source\n",
        "    first_timestamp = df_extract[\"Date\"].values[0]\n",
        "    last_timestamp = df_extract[\"Date\"].values[-1]\n",
        "    diff = (last_timestamp - first_timestamp) / window_time\n",
        "    if(math.ceil(diff) == math.floor(diff)):\n",
        "        size = math.ceil(diff) + 1\n",
        "    else:\n",
        "        size = math.ceil(diff)\n",
        "\n",
        "    y = np.zeros((size,3)) #create the matrix y\n",
        "    if(size > 3):\n",
        "        for i in df_extract.index:\n",
        "            index = math.floor((df_extract['Date'][i] - first_timestamp)/ window_time)\n",
        "            y[index,0] += 1\n",
        "            y[index,1] += df_extract['TotPkts'][i]\n",
        "            y[index,2] += df_extract['SrcBytes'][i]\n",
        "\n",
        "        #complete the matrix y\n",
        "        \n",
        "        #apply the pca\n",
        "        pca = PCA(n_components=3)\n",
        "        pca.fit(y)\n",
        "        y_pca = pca.transform(y)\n",
        "        \n",
        "        #we define ui according to our pseudo-code\n",
        "        u1 = y_pca[:,0] / LA.norm(y_pca[:,0])\n",
        "        u2 = y_pca[:,1] / LA.norm(y_pca[:,1])\n",
        "        u3 = y_pca[:,2] / LA.norm(y_pca[:,2])\n",
        "        lst_vec = [u1,u2,u3]\n",
        "        \n",
        "        #we count how many subspaces are considered as anormal\n",
        "        count_number_anormal = 0\n",
        "        for vec in lst_vec:\n",
        "            if detect_anormal(vec):\n",
        "                count_number_anormal+=1\n",
        "        \n",
        "        #a ip is considered as a botnet if it subspace are anormal and his norm is superior that the threshold\n",
        "        if count_number_anormal > 0 and LA.norm(y_pca) > threshold:\n",
        "            y_pred.append(0)\n",
        "        else:\n",
        "            y_pred.append(1)\n",
        "            \n",
        "        if 0 in df_extract['Botnet'].values:\n",
        "            y_true.append(0)\n",
        "        else:\n",
        "            y_true.append(1)"
      ]
    },
    {
      "cell_type": "markdown",
      "metadata": {
        "id": "Je13ZY48_Rcc"
      },
      "source": [
        "# Analyze of result"
      ]
    },
    {
      "cell_type": "markdown",
      "metadata": {
        "id": "0cF3wVp-_Rcd"
      },
      "source": [
        "We see that our confusion matrix is great (False positive near zero and not much of False negative)"
      ]
    },
    {
      "cell_type": "code",
      "execution_count": null,
      "metadata": {
        "id": "AE2yWfuj_Rcd",
        "outputId": "3d9b5ec5-83e1-47d3-d5c0-f2c6cf19db74"
      },
      "outputs": [
        {
          "name": "stdout",
          "output_type": "stream",
          "text": [
            "[[  7   3]\n",
            " [ 30 634]]\n"
          ]
        }
      ],
      "source": [
        "conf = confusion_matrix(y_true, y_pred)\n",
        "print(conf)"
      ]
    },
    {
      "cell_type": "markdown",
      "metadata": {
        "id": "04PePwxs_Rce"
      },
      "source": [
        "Accuracy and more important balanced accuracy are great, that shows that our method is efficient"
      ]
    },
    {
      "cell_type": "code",
      "execution_count": null,
      "metadata": {
        "id": "sMJtwfWc_Rce",
        "outputId": "ba55dbf7-60ef-43c8-9d41-9bb57fdc6027"
      },
      "outputs": [
        {
          "name": "stdout",
          "output_type": "stream",
          "text": [
            "True Positive: 0.70, True Negative: 0.95\n",
            "False Positive: 0.30, False Negative: 0.05\n",
            "Accuracy: 0.95, Balanced accuracy: 0.83\n"
          ]
        }
      ],
      "source": [
        "count = sum(sum(conf))\n",
        "print(f'True Positive: {conf[0,0] / sum(conf[0,:]):.2f}, True Negative: {conf[1,1] / sum(conf[1,:]):.2f}')\n",
        "print(f'False Positive: {conf[0,1] / sum(conf[0,:]):.2f}, False Negative: {conf[1,0] / sum(conf[1,:]):.2f}')\n",
        "print(f'Accuracy: {accuracy_score(y_true, y_pred):.2f}, Balanced accuracy: {balanced_accuracy_score(y_true, y_pred):.2f}')"
      ]
    }
  ],
  "metadata": {
    "colab": {
      "collapsed_sections": [],
      "name": "Notebook_audit_Rakotoarivony_Olborski_El-Kurdi_Azor.ipynb",
      "provenance": []
    },
    "kernelspec": {
      "display_name": "Python 3",
      "language": "python",
      "name": "python3"
    },
    "language_info": {
      "codemirror_mode": {
        "name": "ipython",
        "version": 3
      },
      "file_extension": ".py",
      "mimetype": "text/x-python",
      "name": "python",
      "nbconvert_exporter": "python",
      "pygments_lexer": "ipython3",
      "version": "3.7.9"
    }
  },
  "nbformat": 4,
  "nbformat_minor": 0
}